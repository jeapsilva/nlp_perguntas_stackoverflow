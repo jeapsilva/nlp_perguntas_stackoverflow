{
 "cells": [
  {
   "cell_type": "markdown",
   "metadata": {},
   "source": [
    "# Bibliotecas Utilizadas "
   ]
  },
  {
   "cell_type": "code",
   "execution_count": 23,
   "metadata": {},
   "outputs": [
    {
     "name": "stdout",
     "output_type": "stream",
     "text": [
      "Requirement already satisfied: scikit-multilearn==0.2.0 in c:\\anaconda3\\lib\\site-packages (0.2.0)\n"
     ]
    }
   ],
   "source": [
    "# Bibliotecas utilizadas\n",
    "import pandas as pd\n",
    "from sklearn.model_selection import train_test_split\n",
    "from sklearn.multiclass import OneVsRestClassifier\n",
    "from sklearn.linear_model import LogisticRegression\n",
    "import numpy as np\n",
    "from sklearn.feature_extraction.text import TfidfVectorizer\n",
    "from sklearn.metrics import hamming_loss\n",
    "\n",
    "import seaborn as sns\n",
    "import matplotlib.pyplot as plt \n",
    "\n",
    "!pip install scikit-multilearn==0.2.0\n",
    "from skmultilearn.problem_transform import BinaryRelevance\n",
    "from skmultilearn.problem_transform import ClassifierChain\n",
    "from sklearn.metrics import hamming_loss\n",
    "from skmultilearn.adapt import MLkNN\n",
    "import pickle\n",
    "from sklearn import metrics\n"
   ]
  },
  {
   "cell_type": "markdown",
   "metadata": {},
   "source": [
    "# Dataset"
   ]
  },
  {
   "cell_type": "markdown",
   "metadata": {
    "id": "iU0I77hH6Zsp"
   },
   "source": [
    "Algoritmo que analisa o banco de dados do stackoverflow e classifica a qual tag pertence. Aqui vamos utilizar os algoritmos de classificação: Relevância Binária, Classificação em Cadeia e MLkNN e compará-los através de métricas relevantes. No final vamos testar o melhor algoritmo com a inserção de uma pergunta. \n",
    "\n"
   ]
  },
  {
   "cell_type": "markdown",
   "metadata": {
    "id": "Nsa53fwx6uZP"
   },
   "source": [
    "### **Leitura do dataset**"
   ]
  },
  {
   "cell_type": "code",
   "execution_count": 2,
   "metadata": {
    "id": "yAEAj-tBh08q"
   },
   "outputs": [
    {
     "data": {
      "text/html": [
       "<div>\n",
       "<style scoped>\n",
       "    .dataframe tbody tr th:only-of-type {\n",
       "        vertical-align: middle;\n",
       "    }\n",
       "\n",
       "    .dataframe tbody tr th {\n",
       "        vertical-align: top;\n",
       "    }\n",
       "\n",
       "    .dataframe thead th {\n",
       "        text-align: right;\n",
       "    }\n",
       "</style>\n",
       "<table border=\"1\" class=\"dataframe\">\n",
       "  <thead>\n",
       "    <tr style=\"text-align: right;\">\n",
       "      <th></th>\n",
       "      <th>Perguntas</th>\n",
       "      <th>Tags</th>\n",
       "    </tr>\n",
       "  </thead>\n",
       "  <tbody>\n",
       "    <tr>\n",
       "      <th>0</th>\n",
       "      <td>Possuo um projeto Node.js porém preciso criar ...</td>\n",
       "      <td>node.js</td>\n",
       "    </tr>\n",
       "    <tr>\n",
       "      <th>1</th>\n",
       "      <td>Gostaria de fazer testes unitários no Node.js,...</td>\n",
       "      <td>node.js</td>\n",
       "    </tr>\n",
       "    <tr>\n",
       "      <th>2</th>\n",
       "      <td>Como inverter a ordem com que o jQuery itera u...</td>\n",
       "      <td>jquery</td>\n",
       "    </tr>\n",
       "    <tr>\n",
       "      <th>3</th>\n",
       "      <td>Eu tenho uma página onde pretendo utilizar um ...</td>\n",
       "      <td>html</td>\n",
       "    </tr>\n",
       "    <tr>\n",
       "      <th>4</th>\n",
       "      <td>Como exibir os dados retornados do FireStore e...</td>\n",
       "      <td>html angular</td>\n",
       "    </tr>\n",
       "  </tbody>\n",
       "</table>\n",
       "</div>"
      ],
      "text/plain": [
       "                                           Perguntas           Tags\n",
       "0  Possuo um projeto Node.js porém preciso criar ...        node.js\n",
       "1  Gostaria de fazer testes unitários no Node.js,...        node.js\n",
       "2  Como inverter a ordem com que o jQuery itera u...         jquery\n",
       "3  Eu tenho uma página onde pretendo utilizar um ...           html\n",
       "4  Como exibir os dados retornados do FireStore e...  html angular "
      ]
     },
     "execution_count": 2,
     "metadata": {},
     "output_type": "execute_result"
    }
   ],
   "source": [
    "#leitura do dataset\n",
    "perguntas = pd.read_csv(\"dados/stackoverflow_perguntas.csv\")\n",
    "perguntas.head(5)"
   ]
  },
  {
   "cell_type": "markdown",
   "metadata": {},
   "source": [
    "### Limpeza dos dados"
   ]
  },
  {
   "cell_type": "code",
   "execution_count": 3,
   "metadata": {},
   "outputs": [
    {
     "data": {
      "text/plain": [
       "(5408, 2)"
      ]
     },
     "execution_count": 3,
     "metadata": {},
     "output_type": "execute_result"
    }
   ],
   "source": [
    "# dimensoes do dataframe\n",
    "perguntas.shape"
   ]
  },
  {
   "cell_type": "code",
   "execution_count": 4,
   "metadata": {},
   "outputs": [
    {
     "data": {
      "text/plain": [
       "Perguntas    0\n",
       "Tags         0\n",
       "dtype: int64"
      ]
     },
     "execution_count": 4,
     "metadata": {},
     "output_type": "execute_result"
    }
   ],
   "source": [
    "# dados nulos e faltantes\n",
    "perguntas.isna().sum()"
   ]
  },
  {
   "cell_type": "code",
   "execution_count": 5,
   "metadata": {},
   "outputs": [
    {
     "data": {
      "text/plain": [
       "Perguntas    0\n",
       "Tags         0\n",
       "dtype: int64"
      ]
     },
     "execution_count": 5,
     "metadata": {},
     "output_type": "execute_result"
    }
   ],
   "source": [
    "perguntas.isnull().sum()"
   ]
  },
  {
   "cell_type": "code",
   "execution_count": 6,
   "metadata": {},
   "outputs": [
    {
     "name": "stdout",
     "output_type": "stream",
     "text": [
      "As perguntas se encaixam em 37 categorias\n"
     ]
    },
    {
     "data": {
      "text/plain": [
       "array(['node.js', 'jquery', 'html', 'html angular ', 'html ', 'angular',\n",
       "       'angular ', 'jquery html  ', 'jquery ', 'jquery html',\n",
       "       'jquery html ', 'html angular', 'angular node.js ', 'html  ',\n",
       "       'jquery html angular', 'node.js ', 'html jquery', 'html jquery ',\n",
       "       'jquery angular  ', 'html node.js', 'jquery  ', 'angular node.js',\n",
       "       'jquery angular', 'html node.js ', 'jquery node.js ', 'angular  ',\n",
       "       'jquery angular ', 'jquery html angular ', 'node.js html ',\n",
       "       ' node.js', 'node.js html', 'html angular  ', 'jquery node.js',\n",
       "       'angular html', 'html angular  node.js', 'jquery html node.js',\n",
       "       'html angular node.js'], dtype=object)"
      ]
     },
     "execution_count": 6,
     "metadata": {},
     "output_type": "execute_result"
    }
   ],
   "source": [
    "# análise de categorias\n",
    "print('As perguntas se encaixam em {} categorias'.format(len(perguntas.Tags.unique())))\n",
    "perguntas['Tags'].unique()"
   ]
  },
  {
   "cell_type": "markdown",
   "metadata": {},
   "source": [
    "> Aqui notamos que temos diversas tags que são iguais e só diferem porque acrescentam mais informações. Vamos limpar isso."
   ]
  },
  {
   "cell_type": "markdown",
   "metadata": {},
   "source": [
    "### Engenharia de features"
   ]
  },
  {
   "cell_type": "code",
   "execution_count": 7,
   "metadata": {},
   "outputs": [
    {
     "data": {
      "text/plain": [
       "['node.js', 'jquery', 'html', 'angular']"
      ]
     },
     "execution_count": 7,
     "metadata": {},
     "output_type": "execute_result"
    }
   ],
   "source": [
    "# função que mapeia quais tags temos no dataset\n",
    "lista = list()\n",
    "for tags in perguntas.Tags.unique():\n",
    "    x = tags.split()\n",
    "    for i in x:\n",
    "        if i not in lista:\n",
    "            lista.append(i)\n",
    "lista"
   ]
  },
  {
   "cell_type": "code",
   "execution_count": 8,
   "metadata": {},
   "outputs": [],
   "source": [
    "# funcao que mapeia as tagas e cria uma coluna para cada uma no dataset mapeando a presença (1) e a não presença na frase (0)\n",
    "def nova_coluna(dataframe, lista, nome_tag):\n",
    "    for tag in lista:\n",
    "        coluna = list()\n",
    "        for linha in dataframe[nome_tag]:\n",
    "            if tag in linha:\n",
    "                coluna.append(1)\n",
    "            else:\n",
    "                coluna.append(0)\n",
    "\n",
    "        #adicionado ao dataframe\n",
    "        dataframe[tag] = coluna       \n",
    "    return\n",
    "nova_coluna(perguntas,lista,\"Tags\")"
   ]
  },
  {
   "cell_type": "code",
   "execution_count": 9,
   "metadata": {},
   "outputs": [
    {
     "data": {
      "text/html": [
       "<div>\n",
       "<style scoped>\n",
       "    .dataframe tbody tr th:only-of-type {\n",
       "        vertical-align: middle;\n",
       "    }\n",
       "\n",
       "    .dataframe tbody tr th {\n",
       "        vertical-align: top;\n",
       "    }\n",
       "\n",
       "    .dataframe thead th {\n",
       "        text-align: right;\n",
       "    }\n",
       "</style>\n",
       "<table border=\"1\" class=\"dataframe\">\n",
       "  <thead>\n",
       "    <tr style=\"text-align: right;\">\n",
       "      <th></th>\n",
       "      <th>Perguntas</th>\n",
       "      <th>Tags</th>\n",
       "      <th>node.js</th>\n",
       "      <th>jquery</th>\n",
       "      <th>html</th>\n",
       "      <th>angular</th>\n",
       "    </tr>\n",
       "  </thead>\n",
       "  <tbody>\n",
       "    <tr>\n",
       "      <th>0</th>\n",
       "      <td>Possuo um projeto Node.js porém preciso criar ...</td>\n",
       "      <td>node.js</td>\n",
       "      <td>1</td>\n",
       "      <td>0</td>\n",
       "      <td>0</td>\n",
       "      <td>0</td>\n",
       "    </tr>\n",
       "    <tr>\n",
       "      <th>1</th>\n",
       "      <td>Gostaria de fazer testes unitários no Node.js,...</td>\n",
       "      <td>node.js</td>\n",
       "      <td>1</td>\n",
       "      <td>0</td>\n",
       "      <td>0</td>\n",
       "      <td>0</td>\n",
       "    </tr>\n",
       "    <tr>\n",
       "      <th>2</th>\n",
       "      <td>Como inverter a ordem com que o jQuery itera u...</td>\n",
       "      <td>jquery</td>\n",
       "      <td>0</td>\n",
       "      <td>1</td>\n",
       "      <td>0</td>\n",
       "      <td>0</td>\n",
       "    </tr>\n",
       "  </tbody>\n",
       "</table>\n",
       "</div>"
      ],
      "text/plain": [
       "                                           Perguntas     Tags  node.js  \\\n",
       "0  Possuo um projeto Node.js porém preciso criar ...  node.js        1   \n",
       "1  Gostaria de fazer testes unitários no Node.js,...  node.js        1   \n",
       "2  Como inverter a ordem com que o jQuery itera u...   jquery        0   \n",
       "\n",
       "   jquery  html  angular  \n",
       "0       0     0        0  \n",
       "1       0     0        0  \n",
       "2       1     0        0  "
      ]
     },
     "execution_count": 9,
     "metadata": {},
     "output_type": "execute_result"
    }
   ],
   "source": [
    "perguntas.head(3)"
   ]
  },
  {
   "cell_type": "code",
   "execution_count": 10,
   "metadata": {
    "colab": {
     "base_uri": "https://localhost:8080/",
     "height": 362
    },
    "id": "4uPiy3C8VJik",
    "outputId": "ffb9832d-718f-4dde-9a81-55d8d9ed57bf"
   },
   "outputs": [
    {
     "data": {
      "text/html": [
       "<div>\n",
       "<style scoped>\n",
       "    .dataframe tbody tr th:only-of-type {\n",
       "        vertical-align: middle;\n",
       "    }\n",
       "\n",
       "    .dataframe tbody tr th {\n",
       "        vertical-align: top;\n",
       "    }\n",
       "\n",
       "    .dataframe thead th {\n",
       "        text-align: right;\n",
       "    }\n",
       "</style>\n",
       "<table border=\"1\" class=\"dataframe\">\n",
       "  <thead>\n",
       "    <tr style=\"text-align: right;\">\n",
       "      <th></th>\n",
       "      <th>Perguntas</th>\n",
       "      <th>Tags</th>\n",
       "      <th>node.js</th>\n",
       "      <th>jquery</th>\n",
       "      <th>html</th>\n",
       "      <th>angular</th>\n",
       "      <th>todas_tags</th>\n",
       "    </tr>\n",
       "  </thead>\n",
       "  <tbody>\n",
       "    <tr>\n",
       "      <th>0</th>\n",
       "      <td>Possuo um projeto Node.js porém preciso criar ...</td>\n",
       "      <td>node.js</td>\n",
       "      <td>1</td>\n",
       "      <td>0</td>\n",
       "      <td>0</td>\n",
       "      <td>0</td>\n",
       "      <td>(1, 0, 0, 0)</td>\n",
       "    </tr>\n",
       "    <tr>\n",
       "      <th>1</th>\n",
       "      <td>Gostaria de fazer testes unitários no Node.js,...</td>\n",
       "      <td>node.js</td>\n",
       "      <td>1</td>\n",
       "      <td>0</td>\n",
       "      <td>0</td>\n",
       "      <td>0</td>\n",
       "      <td>(1, 0, 0, 0)</td>\n",
       "    </tr>\n",
       "  </tbody>\n",
       "</table>\n",
       "</div>"
      ],
      "text/plain": [
       "                                           Perguntas     Tags  node.js  \\\n",
       "0  Possuo um projeto Node.js porém preciso criar ...  node.js        1   \n",
       "1  Gostaria de fazer testes unitários no Node.js,...  node.js        1   \n",
       "\n",
       "   jquery  html  angular    todas_tags  \n",
       "0       0     0        0  (1, 0, 0, 0)  \n",
       "1       0     0        0  (1, 0, 0, 0)  "
      ]
     },
     "execution_count": 10,
     "metadata": {},
     "output_type": "execute_result"
    }
   ],
   "source": [
    "# para avançar é imprecindível ter todas as colunas dummies presentes em uma única coluna\n",
    "# sendo assim, vamos juntar as colunas de Node.js, jquery, html e angular na coluna todas_tags\n",
    "# aprendendo a utilizar o zip para juntas colunas no dataframe\n",
    "\n",
    "#aplicando zip ao dataframe para juntar colunas\n",
    "lista_zip_tags = list(zip(perguntas[lista[0]], \n",
    "                      perguntas[lista[1]],\n",
    "                      perguntas[lista[2]],\n",
    "                      perguntas[lista[3]])\n",
    "                      )\n",
    "\n",
    "#adicionando essa lista no datagrame\n",
    "perguntas['todas_tags'] = lista_zip_tags\n",
    "\n",
    "perguntas.head(2)"
   ]
  },
  {
   "cell_type": "code",
   "execution_count": 11,
   "metadata": {},
   "outputs": [],
   "source": [
    "sem_perguntas = perguntas.drop(['Perguntas','Tags'],axis=1)"
   ]
  },
  {
   "cell_type": "code",
   "execution_count": 12,
   "metadata": {
    "colab": {
     "base_uri": "https://localhost:8080/",
     "height": 175
    },
    "id": "2pR8toolurgg",
    "outputId": "54aba283-ee17-49ab-b76d-f059a5e8ad9a"
   },
   "outputs": [
    {
     "data": {
      "text/html": [
       "<div>\n",
       "<style scoped>\n",
       "    .dataframe tbody tr th:only-of-type {\n",
       "        vertical-align: middle;\n",
       "    }\n",
       "\n",
       "    .dataframe tbody tr th {\n",
       "        vertical-align: top;\n",
       "    }\n",
       "\n",
       "    .dataframe thead th {\n",
       "        text-align: right;\n",
       "    }\n",
       "</style>\n",
       "<table border=\"1\" class=\"dataframe\">\n",
       "  <thead>\n",
       "    <tr style=\"text-align: right;\">\n",
       "      <th></th>\n",
       "      <th>node.js</th>\n",
       "      <th>jquery</th>\n",
       "      <th>html</th>\n",
       "      <th>angular</th>\n",
       "    </tr>\n",
       "  </thead>\n",
       "  <tbody>\n",
       "    <tr>\n",
       "      <th>node.js</th>\n",
       "      <td>1.000000</td>\n",
       "      <td>-0.321485</td>\n",
       "      <td>-0.273523</td>\n",
       "      <td>-0.101787</td>\n",
       "    </tr>\n",
       "    <tr>\n",
       "      <th>jquery</th>\n",
       "      <td>-0.321485</td>\n",
       "      <td>1.000000</td>\n",
       "      <td>-0.253977</td>\n",
       "      <td>-0.366269</td>\n",
       "    </tr>\n",
       "    <tr>\n",
       "      <th>html</th>\n",
       "      <td>-0.273523</td>\n",
       "      <td>-0.253977</td>\n",
       "      <td>1.000000</td>\n",
       "      <td>-0.286706</td>\n",
       "    </tr>\n",
       "    <tr>\n",
       "      <th>angular</th>\n",
       "      <td>-0.101787</td>\n",
       "      <td>-0.366269</td>\n",
       "      <td>-0.286706</td>\n",
       "      <td>1.000000</td>\n",
       "    </tr>\n",
       "  </tbody>\n",
       "</table>\n",
       "</div>"
      ],
      "text/plain": [
       "          node.js    jquery      html   angular\n",
       "node.js  1.000000 -0.321485 -0.273523 -0.101787\n",
       "jquery  -0.321485  1.000000 -0.253977 -0.366269\n",
       "html    -0.273523 -0.253977  1.000000 -0.286706\n",
       "angular -0.101787 -0.366269 -0.286706  1.000000"
      ]
     },
     "execution_count": 12,
     "metadata": {},
     "output_type": "execute_result"
    }
   ],
   "source": [
    "#analisando a correlação entre as variáveis\n",
    "perguntas.corr()"
   ]
  },
  {
   "cell_type": "code",
   "execution_count": 13,
   "metadata": {},
   "outputs": [
    {
     "data": {
      "image/png": "[encoded data removed]",
      "text/plain": [
       "<Figure size 576x288 with 2 Axes>"
      ]
     },
     "metadata": {},
     "output_type": "display_data"
    }
   ],
   "source": [
    "# criando um filtro para visualizar a matriz de correlação\n",
    "#analisando a correlação entre as variáveis\n",
    "correlacao = perguntas.corr()\n",
    "cores = sns.light_palette(\"#79C\",as_cmap=True)\n",
    "mask = np.zeros_like(correlacao)\n",
    "mask[np.triu_indices_from(mask)] = True\n",
    "with sns.axes_style(\"white\"):\n",
    "    f,ax = plt.subplots(figsize=(8,4))\n",
    "    ax = sns.heatmap(correlacao,mask=mask,cmap=cores,square=True,fmt='.2f',annot=True,linewidth=.5)"
   ]
  },
  {
   "cell_type": "code",
   "execution_count": 14,
   "metadata": {},
   "outputs": [
    {
     "data": {
      "text/html": [
       "<div>\n",
       "<style scoped>\n",
       "    .dataframe tbody tr th:only-of-type {\n",
       "        vertical-align: middle;\n",
       "    }\n",
       "\n",
       "    .dataframe tbody tr th {\n",
       "        vertical-align: top;\n",
       "    }\n",
       "\n",
       "    .dataframe thead th {\n",
       "        text-align: right;\n",
       "    }\n",
       "</style>\n",
       "<table border=\"1\" class=\"dataframe\">\n",
       "  <thead>\n",
       "    <tr style=\"text-align: right;\">\n",
       "      <th></th>\n",
       "      <th>node.js</th>\n",
       "      <th>jquery</th>\n",
       "      <th>html</th>\n",
       "      <th>angular</th>\n",
       "    </tr>\n",
       "  </thead>\n",
       "  <tbody>\n",
       "    <tr>\n",
       "      <th>count</th>\n",
       "      <td>5408.000000</td>\n",
       "      <td>5408.000000</td>\n",
       "      <td>5408.000000</td>\n",
       "      <td>5408.000000</td>\n",
       "    </tr>\n",
       "    <tr>\n",
       "      <th>mean</th>\n",
       "      <td>0.118528</td>\n",
       "      <td>0.451923</td>\n",
       "      <td>0.433617</td>\n",
       "      <td>0.171783</td>\n",
       "    </tr>\n",
       "    <tr>\n",
       "      <th>std</th>\n",
       "      <td>0.323262</td>\n",
       "      <td>0.497729</td>\n",
       "      <td>0.495620</td>\n",
       "      <td>0.377226</td>\n",
       "    </tr>\n",
       "    <tr>\n",
       "      <th>min</th>\n",
       "      <td>0.000000</td>\n",
       "      <td>0.000000</td>\n",
       "      <td>0.000000</td>\n",
       "      <td>0.000000</td>\n",
       "    </tr>\n",
       "    <tr>\n",
       "      <th>25%</th>\n",
       "      <td>0.000000</td>\n",
       "      <td>0.000000</td>\n",
       "      <td>0.000000</td>\n",
       "      <td>0.000000</td>\n",
       "    </tr>\n",
       "    <tr>\n",
       "      <th>50%</th>\n",
       "      <td>0.000000</td>\n",
       "      <td>0.000000</td>\n",
       "      <td>0.000000</td>\n",
       "      <td>0.000000</td>\n",
       "    </tr>\n",
       "    <tr>\n",
       "      <th>75%</th>\n",
       "      <td>0.000000</td>\n",
       "      <td>1.000000</td>\n",
       "      <td>1.000000</td>\n",
       "      <td>0.000000</td>\n",
       "    </tr>\n",
       "    <tr>\n",
       "      <th>max</th>\n",
       "      <td>1.000000</td>\n",
       "      <td>1.000000</td>\n",
       "      <td>1.000000</td>\n",
       "      <td>1.000000</td>\n",
       "    </tr>\n",
       "  </tbody>\n",
       "</table>\n",
       "</div>"
      ],
      "text/plain": [
       "           node.js       jquery         html      angular\n",
       "count  5408.000000  5408.000000  5408.000000  5408.000000\n",
       "mean      0.118528     0.451923     0.433617     0.171783\n",
       "std       0.323262     0.497729     0.495620     0.377226\n",
       "min       0.000000     0.000000     0.000000     0.000000\n",
       "25%       0.000000     0.000000     0.000000     0.000000\n",
       "50%       0.000000     0.000000     0.000000     0.000000\n",
       "75%       0.000000     1.000000     1.000000     0.000000\n",
       "max       1.000000     1.000000     1.000000     1.000000"
      ]
     },
     "execution_count": 14,
     "metadata": {},
     "output_type": "execute_result"
    }
   ],
   "source": [
    "sem_perguntas.describe()"
   ]
  },
  {
   "cell_type": "markdown",
   "metadata": {
    "id": "xeGkZkZ08XDi"
   },
   "source": [
    "\n",
    "\n",
    "### **Dividindo nosso dataset**\n",
    "\n"
   ]
  },
  {
   "cell_type": "code",
   "execution_count": 15,
   "metadata": {
    "id": "HyF5JHVjTbql"
   },
   "outputs": [],
   "source": [
    "#X_train, X_test, Y_train, Y_test\n",
    "\n",
    "SEED = 123\n",
    "\n",
    "X = perguntas['Perguntas']\n",
    "y = perguntas['todas_tags']\n",
    "\n",
    "X_train, X_test, y_train, y_test = train_test_split(X,\n",
    "                                                    y,\n",
    "                                                    test_size=0.2,\n",
    "                                                    random_state=SEED)"
   ]
  },
  {
   "cell_type": "code",
   "execution_count": 16,
   "metadata": {},
   "outputs": [
    {
     "data": {
      "text/plain": [
       "(5408,)"
      ]
     },
     "execution_count": 16,
     "metadata": {},
     "output_type": "execute_result"
    }
   ],
   "source": [
    "X.shape"
   ]
  },
  {
   "cell_type": "markdown",
   "metadata": {
    "id": "QV586iO483DE"
   },
   "source": [
    "\n",
    "### **Variáveis Dummies para as perguntas**\n",
    "\n"
   ]
  },
  {
   "cell_type": "markdown",
   "metadata": {
    "id": "5KnFBcwbZnYu"
   },
   "source": [
    "Como o computador não entende o que significa a palavra \"não\" ou qualquer outra do nosso dataset, vamos utilizar a técnica TF-IDF. Ela atribui uma relevância para cada palavra nas perguntas.\n",
    "\n",
    "O valor tf–idf (abreviação do inglês term frequency–inverse document frequency, que significa frequência do termo–inverso da frequência nos documentos), é uma medida estatística que tem o intuito de indicar a importância de uma palavra de um documento em relação a uma coleção de documentos ou em um corpus linguístico. Ela é frequentemente utilizada como fator de ponderação na recuperação de informações e na mineração de dados.\n",
    "\n",
    "O valor tf–idf de uma palavra aumenta proporcionalmente à medida que aumenta o número de ocorrências dela em um documento, no entanto, esse valor é equilibrado pela frequência da palavra no corpus. Isso auxilia a distinguir o fato da ocorrência de algumas palavras serem geralmente mais comuns que outras.\n"
   ]
  },
  {
   "cell_type": "code",
   "execution_count": 17,
   "metadata": {
    "id": "1R0lo6-FY4ga"
   },
   "outputs": [
    {
     "name": "stdout",
     "output_type": "stream",
     "text": [
      ">> As dimensões das perguntas de treino são:\n",
      "\n",
      "(4326, 5408)\n",
      "\n",
      ">> As dimensões das perguntas de teste são:\n",
      "\n",
      "(1082, 5408)\n"
     ]
    }
   ],
   "source": [
    "#biblioteca utilizada para transformar as perguntas em vetor numéricos TfIdfVectorizer\n",
    "\n",
    "vetorizar = TfidfVectorizer(max_features=5408,max_df=0.85) #vetor com o tamanho de 5000 e eliminando palavras que aparecem acima de 85% em cada pergunta\n",
    "\n",
    "vetorizar.fit(X) \n",
    "\n",
    "#realizando a conversao das perguntas de treino e teste para linguagem de máquina\n",
    "X_train_tfidf = vetorizar.transform(X_train)\n",
    "X_test_tfidf = vetorizar.transform(X_test)\n",
    "\n",
    "#dimensoes dos nossos vetores\n",
    "print('>> As dimensões das perguntas de treino são:\\n')\n",
    "print(X_train_tfidf.shape)\n",
    "print('\\n>> As dimensões das perguntas de teste são:\\n')\n",
    "print(X_test_tfidf.shape)"
   ]
  },
  {
   "cell_type": "markdown",
   "metadata": {},
   "source": [
    "# Modelagem dos dados"
   ]
  },
  {
   "cell_type": "markdown",
   "metadata": {
    "id": "hKKro7eE9n2N"
   },
   "source": [
    "\n",
    "\n",
    "### **Algoritmo de classificação: Regressão Logística com OneVsRest**"
   ]
  },
  {
   "cell_type": "markdown",
   "metadata": {
    "id": "y57_DDy-BmjQ"
   },
   "source": [
    "*Esse algoritmo binário cria um modelo para cada categoria e classifica de acordo com 0(não presença) e 1(presença)*"
   ]
  },
  {
   "cell_type": "markdown",
   "metadata": {
    "id": "wpe8vEkoDX1m"
   },
   "source": [
    "\n",
    "\n",
    "> Métrica da qualidade do algoritmo: Extra-match (score)\n",
    "\n"
   ]
  },
  {
   "cell_type": "code",
   "execution_count": 18,
   "metadata": {
    "colab": {
     "base_uri": "https://localhost:8080/"
    },
    "id": "klqVdvQmgr6a",
    "outputId": "85cdefc2-c2f6-4835-9cad-5d3e7c47a636"
   },
   "outputs": [],
   "source": [
    "# criando um classificador binário\n",
    "regressao_logistica = LogisticRegression()\n",
    "\n",
    "# como temos mais de 4 categorias, vamos utilizar o onevsrest para expandir para multiclasse\n",
    "classificador_onevsrest = OneVsRestClassifier(regressao_logistica)\n",
    "\n",
    "# antes de treinar o modelo vamos ter que converter a ultima coluna em um array ou matrix binária\n",
    "y_train_array = np.asarray(list(y_train)) #temos que usar o list() pois se não teremos uma lista de tuplas\n",
    "y_test_array = np.asarray(list(y_test))\n",
    "\n",
    "# treinando \n",
    "classificador_onevsrest.fit(X_train_tfidf, y_train_array)\n",
    "\n",
    "#agora predizendo o modelo através dos dados de teste, o score trás a acurácia\n",
    "acuracia_onevsrest = classificador_onevsrest.score(X_test_tfidf, y_test_array) #nao é uma boa metrica, pois ela busca acertar 100% na variável\n",
    "\n",
    "#predizendo nossas tags através das perguntas\n",
    "previsao_onevsrest = classificador_onevsrest.predict(X_test_tfidf)"
   ]
  },
  {
   "cell_type": "markdown",
   "metadata": {
    "id": "qIRxaLeuDqJu"
   },
   "source": [
    "**Hamming Loss** = O hamming loss é uma métrica que avalia a precisão de um modelo multiclasse, no qual ele compara a quantidade de resultados incorretos com o número de resultados totais que o modelo pode dar. Então se é uma métrica que avalia a precisão do modelo, diminuímos ela melhorando a classificação do modelo.\n"
   ]
  },
  {
   "cell_type": "code",
   "execution_count": 24,
   "metadata": {
    "colab": {
     "base_uri": "https://localhost:8080/"
    },
    "id": "Z6xtmGHAieRC",
    "outputId": "c551a99f-5ba6-4a24-d60f-7a2024365ae3"
   },
   "outputs": [
    {
     "name": "stdout",
     "output_type": "stream",
     "text": [
      "hamming_loss do modelo OneVsRest é  0.19\n",
      "f1 do modelo OneVsRest é  0.64\n",
      "Acurácia do modelo 41.68207024029575%\n"
     ]
    }
   ],
   "source": [
    "#utilizando as tags de test e comparando com o valor previsto pelo classificador\n",
    "hamming_loss_onevsrest = hamming_loss(y_test_array, previsao_onevsrest)\n",
    "onevsrest_f1 =metrics.f1_score(y_test_array, previsao_onevsrest, average='micro')\n",
    "print('hamming_loss do modelo OneVsRest é {0: .2f}'.format(hamming_loss_onevsrest))\n",
    "print('f1 do modelo OneVsRest é {0: .2f}'.format(onevsrest_f1))\n",
    "print(\"Acurácia do modelo {}%\".format(acuracia_onevsrest*100))"
   ]
  },
  {
   "cell_type": "markdown",
   "metadata": {
    "id": "F7JIWePaxlCM"
   },
   "source": [
    "\n",
    "### **Algoritmo de classificação Regressão Logística com Relevância Binária**"
   ]
  },
  {
   "cell_type": "code",
   "execution_count": 25,
   "metadata": {
    "colab": {
     "base_uri": "https://localhost:8080/"
    },
    "id": "nfzYRp800QQC",
    "outputId": "7eb339e2-f064-4965-d563-3f929fbb443d"
   },
   "outputs": [],
   "source": [
    "classificador_br = BinaryRelevance(regressao_logistica)\n",
    "classificador_br.fit(X_train_tfidf,y_train_array)\n",
    "resultado_br = classificador_br.score(X_test_tfidf, y_test_array) # acuracia\n",
    "previsao_br = classificador_br.predict(X_test_tfidf)"
   ]
  },
  {
   "cell_type": "code",
   "execution_count": 26,
   "metadata": {},
   "outputs": [],
   "source": [
    "br_f1=metrics.f1_score(y_test_array, previsao_br, average='micro')\n",
    "br_hamm=metrics.hamming_loss(y_test_array,previsao_br)"
   ]
  },
  {
   "cell_type": "code",
   "execution_count": 27,
   "metadata": {},
   "outputs": [
    {
     "name": "stdout",
     "output_type": "stream",
     "text": [
      "Hamming Loss do modelo Relevância Binária  0.19\n",
      "f1 do modelo Relevância Binária é  0.64\n",
      "Acurácia do modelo 41.68207024029575%\n"
     ]
    }
   ],
   "source": [
    "print(\"Hamming Loss do modelo Relevância Binária {0: .2f}\".format(br_hamm))\n",
    "print('f1 do modelo Relevância Binária é {0: .2f}'.format(br_f1))\n",
    "print(\"Acurácia do modelo {}%\".format(resultado_br*100))"
   ]
  },
  {
   "cell_type": "markdown",
   "metadata": {
    "id": "8jjG_9f5xQJP"
   },
   "source": [
    "\n",
    "### **Algoritmo de classificação Regressão Logística com Classificação em Cadeia (ClassifierChain)**\n"
   ]
  },
  {
   "cell_type": "markdown",
   "metadata": {
    "id": "Z5QCs4lGEYjA"
   },
   "source": [
    "*Esse algoritmo cria um modelo para cada tag. Esse algoritmo cria um modelo que analisa todas as 4 colunas*"
   ]
  },
  {
   "cell_type": "code",
   "execution_count": 28,
   "metadata": {
    "colab": {
     "base_uri": "https://localhost:8080/"
    },
    "id": "2cRAkvo4tq4v",
    "outputId": "c76315bf-03a9-4f02-dc61-62fbf82ed1a2"
   },
   "outputs": [],
   "source": [
    "#criando meu classificador multilabel\n",
    "classificador_cadeia = ClassifierChain(regressao_logistica)\n",
    "\n",
    "#treinando meus dados com esse classificador\n",
    "classificador_cadeia.fit(X_train_tfidf, y_train_array)\n",
    "\n",
    "#calculando a acurácia\n",
    "resultado_cadeia = classificador_cadeia.score(X_test_tfidf, y_test_array)\n",
    "\n",
    "#calculando o hamming loss\n",
    "previsao_cadeia = classificador_cadeia.predict(X_test_tfidf)\n"
   ]
  },
  {
   "cell_type": "code",
   "execution_count": 29,
   "metadata": {},
   "outputs": [],
   "source": [
    "br_f2=metrics.f1_score(y_test_array, previsao_cadeia, average='micro')\n",
    "br_hamm2=metrics.hamming_loss(y_test_array,previsao_cadeia)"
   ]
  },
  {
   "cell_type": "code",
   "execution_count": 30,
   "metadata": {},
   "outputs": [
    {
     "name": "stdout",
     "output_type": "stream",
     "text": [
      "Hamming Loss do modelo Classificação em Cadeia  0.21\n",
      "f1 do modelo Classificação em Cadeia é  0.62\n",
      "Acurácia do modelo 49.81515711645101%\n"
     ]
    }
   ],
   "source": [
    "print(\"Hamming Loss do modelo Classificação em Cadeia {0: .2f}\".format(br_hamm2))\n",
    "print('f1 do modelo Classificação em Cadeia é {0: .2f}'.format(br_f2))\n",
    "print(\"Acurácia do modelo {}%\".format(resultado_cadeia*100))"
   ]
  },
  {
   "cell_type": "markdown",
   "metadata": {
    "id": "s6MCROa3FTys"
   },
   "source": [
    "\n",
    "### **Algoritmo de classificação Regressão Logística com Multi-label KNN (MLkNN)**"
   ]
  },
  {
   "cell_type": "code",
   "execution_count": 31,
   "metadata": {
    "colab": {
     "base_uri": "https://localhost:8080/"
    },
    "id": "vv23qDXR5Z0B",
    "outputId": "3b2bc322-0431-466e-e4a8-62c1e78a0ea7"
   },
   "outputs": [
    {
     "name": "stderr",
     "output_type": "stream",
     "text": [
      "C:\\Anaconda3\\lib\\site-packages\\sklearn\\utils\\validation.py:70: FutureWarning: Pass n_neighbors=10 as keyword args. From version 1.0 (renaming of 0.25) passing these as positional arguments will result in an error\n",
      "  warnings.warn(f\"Pass {args_msg} as keyword args. From version \"\n"
     ]
    }
   ],
   "source": [
    "classificador_mlknn = MLkNN()\n",
    "classificador_mlknn.fit(X_train_tfidf, y_train_array)\n",
    "resultado_mlknn = classificador_mlknn.score(X_test_tfidf, y_test_array)\n",
    "previsao_mlknn = classificador_mlknn.predict(X_test_tfidf)"
   ]
  },
  {
   "cell_type": "code",
   "execution_count": 32,
   "metadata": {},
   "outputs": [
    {
     "name": "stdout",
     "output_type": "stream",
     "text": [
      "Hamming Loss do modelo Multilabel KNN  0.25\n",
      "f1 do modelo Multilabel KNN é  0.51\n",
      "Acurácia do modelo 32.16266173752311%\n"
     ]
    }
   ],
   "source": [
    "br_f3=metrics.f1_score(y_test_array, previsao_mlknn, average='micro')\n",
    "br_hamm3=metrics.hamming_loss(y_test_array,previsao_mlknn)\n",
    "\n",
    "print(\"Hamming Loss do modelo Multilabel KNN {0: .2f}\".format(br_hamm3))\n",
    "print('f1 do modelo Multilabel KNN é {0: .2f}'.format(br_f3))\n",
    "print(\"Acurácia do modelo {}%\".format(resultado_mlknn*100))"
   ]
  },
  {
   "cell_type": "markdown",
   "metadata": {},
   "source": [
    "# Comparando os modelos"
   ]
  },
  {
   "cell_type": "code",
   "execution_count": 33,
   "metadata": {},
   "outputs": [],
   "source": [
    "f1       = (onevsrest_f1, br_f1, br_f2, br_f3)\n",
    "hamming  = (hamming_loss_onevsrest ,br_hamm ,br_hamm2, br_hamm3)\n",
    "acuracia = (acuracia_onevsrest, resultado_br, resultado_cadeia, resultado_mlknn)"
   ]
  },
  {
   "cell_type": "code",
   "execution_count": 34,
   "metadata": {},
   "outputs": [
    {
     "data": {
      "text/html": [
       "<div>\n",
       "<style scoped>\n",
       "    .dataframe tbody tr th:only-of-type {\n",
       "        vertical-align: middle;\n",
       "    }\n",
       "\n",
       "    .dataframe tbody tr th {\n",
       "        vertical-align: top;\n",
       "    }\n",
       "\n",
       "    .dataframe thead th {\n",
       "        text-align: right;\n",
       "    }\n",
       "</style>\n",
       "<table border=\"1\" class=\"dataframe\">\n",
       "  <thead>\n",
       "    <tr style=\"text-align: right;\">\n",
       "      <th></th>\n",
       "      <th>OneVsRest</th>\n",
       "      <th>Relevância Binária</th>\n",
       "      <th>Classifier Chain</th>\n",
       "      <th>MlKnn</th>\n",
       "    </tr>\n",
       "  </thead>\n",
       "  <tbody>\n",
       "    <tr>\n",
       "      <th>f1</th>\n",
       "      <td>0.635791</td>\n",
       "      <td>0.635791</td>\n",
       "      <td>0.616869</td>\n",
       "      <td>0.506511</td>\n",
       "    </tr>\n",
       "    <tr>\n",
       "      <th>hamming loss</th>\n",
       "      <td>0.187153</td>\n",
       "      <td>0.187153</td>\n",
       "      <td>0.210952</td>\n",
       "      <td>0.253928</td>\n",
       "    </tr>\n",
       "    <tr>\n",
       "      <th>acuracia</th>\n",
       "      <td>0.416821</td>\n",
       "      <td>0.416821</td>\n",
       "      <td>0.498152</td>\n",
       "      <td>0.321627</td>\n",
       "    </tr>\n",
       "  </tbody>\n",
       "</table>\n",
       "</div>"
      ],
      "text/plain": [
       "              OneVsRest  Relevância Binária  Classifier Chain     MlKnn\n",
       "f1             0.635791            0.635791          0.616869  0.506511\n",
       "hamming loss   0.187153            0.187153          0.210952  0.253928\n",
       "acuracia       0.416821            0.416821          0.498152  0.321627"
      ]
     },
     "execution_count": 34,
     "metadata": {},
     "output_type": "execute_result"
    }
   ],
   "source": [
    "dados = [f1,\n",
    "         hamming,\n",
    "         acuracia]\n",
    "\n",
    "df = pd.DataFrame(dados)\n",
    "df.rename(columns={0:'OneVsRest', 1:'Relevância Binária' ,2:'Classifier Chain', 3:'MlKnn'},inplace=True)\n",
    "df.rename(index={0:'f1',1:'hamming loss',2:'acuracia'},inplace=True)\n",
    "df"
   ]
  },
  {
   "cell_type": "markdown",
   "metadata": {},
   "source": [
    "# Exportando o modelo"
   ]
  },
  {
   "cell_type": "code",
   "execution_count": 35,
   "metadata": {},
   "outputs": [],
   "source": [
    "# salvando o modelo e vetorizados\n",
    "\n",
    "# abrindo um arquivo\n",
    "output = open('classificador_pergunta_stackoverflow','wb')\n",
    "output_vet = open('vetorizar_dummie','wb')\n",
    "\n",
    "# escrevendo\n",
    "pickle.dump(vetorizar, output_vet)\n",
    "pickle.dump(classificador_onevsrest,output)\n",
    "\n",
    "# fechando\n",
    "output_vet.close()\n",
    "output.close()"
   ]
  },
  {
   "cell_type": "markdown",
   "metadata": {},
   "source": [
    "# Classificando uma frase"
   ]
  },
  {
   "cell_type": "code",
   "execution_count": 36,
   "metadata": {},
   "outputs": [],
   "source": [
    "from itertools import repeat\n",
    "import pickle\n",
    "from sklearn.feature_extraction.text import TfidfVectorizer\n",
    "\n",
    "# abrindo o modelo e o vetorizador \n",
    "predict_model = open('classificador_pergunta_stackoverflow','rb')\n",
    "vetorizar = open('vetorizar_dummie','rb')\n",
    "\n",
    "# carregando\n",
    "vetorizar_dummie = pickle.load(vetorizar)\n",
    "modelo = pickle.load(predict_model)\n",
    "\n",
    "# fechando\n",
    "vetorizar.close()\n",
    "predict_model.close()"
   ]
  },
  {
   "cell_type": "code",
   "execution_count": 37,
   "metadata": {},
   "outputs": [],
   "source": [
    "# inserindo a frase\n",
    "phrase = [\"meu codigo em html travou quando abri o <p> </p>\"]"
   ]
  },
  {
   "cell_type": "code",
   "execution_count": 38,
   "metadata": {},
   "outputs": [],
   "source": [
    "phrase_transformada = vetorizar_dummie.transform(phrase) "
   ]
  },
  {
   "cell_type": "code",
   "execution_count": 39,
   "metadata": {},
   "outputs": [],
   "source": [
    "predicao = modelo.predict(phrase_transformada)"
   ]
  },
  {
   "cell_type": "code",
   "execution_count": 40,
   "metadata": {},
   "outputs": [
    {
     "data": {
      "text/plain": [
       "array([[0, 0, 1, 0]])"
      ]
     },
     "execution_count": 40,
     "metadata": {},
     "output_type": "execute_result"
    }
   ],
   "source": [
    "predicao"
   ]
  }
 ],
 "metadata": {
  "colab": {
   "collapsed_sections": [],
   "name": "Classificacao_multilabel_ML.ipynb",
   "provenance": []
  },
  "kernelspec": {
   "display_name": "Python 3 (ipykernel)",
   "language": "python",
   "name": "python3"
  },
  "language_info": {
   "codemirror_mode": {
    "name": "ipython",
    "version": 3
   },
   "file_extension": ".py",
   "mimetype": "text/x-python",
   "name": "python",
   "nbconvert_exporter": "python",
   "pygments_lexer": "ipython3",
   "version": "3.9.7"
  }
 },
 "nbformat": 4,
 "nbformat_minor": 1
}
